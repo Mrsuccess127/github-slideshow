{
  "nbformat": 4,
  "nbformat_minor": 0,
  "metadata": {
    "colab": {
      "name": "Newbie.ipynb",
      "provenance": [],
      "collapsed_sections": [],
      "include_colab_link": true
    },
    "kernelspec": {
      "name": "python3",
      "display_name": "Python 3"
    }
  },
  "cells": [
    {
      "cell_type": "markdown",
      "metadata": {
        "id": "view-in-github",
        "colab_type": "text"
      },
      "source": [
        "<a href=\"https://colab.research.google.com/github/Mrsuccess127/github-slideshow/blob/master/Newbie.ipynb\" target=\"_parent\"><img src=\"https://colab.research.google.com/assets/colab-badge.svg\" alt=\"Open In Colab\"/></a>"
      ]
    },
    {
      "cell_type": "code",
      "metadata": {
        "id": "M4nP5vmJ_3rj",
        "colab_type": "code",
        "outputId": "695fc428-b0c4-4332-a2bf-5787ecd4fcda",
        "colab": {
          "base_uri": "https://localhost:8080/",
          "height": 54
        }
      },
      "source": [
        "x = 5\n",
        "y = 10\n",
        "print(x, y)\n",
        "print(type(x), type(y))\n"
      ],
      "execution_count": 0,
      "outputs": [
        {
          "output_type": "stream",
          "text": [
            "5 10\n",
            "<class 'int'> <class 'int'>\n"
          ],
          "name": "stdout"
        }
      ]
    },
    {
      "cell_type": "code",
      "metadata": {
        "id": "Jh6OvvmvAcEa",
        "colab_type": "code",
        "outputId": "77e09ff4-b101-4824-ef02-cd1caa0cc985",
        "colab": {
          "base_uri": "https://localhost:8080/",
          "height": 35
        }
      },
      "source": [
        "x = 3.5E3\n",
        "y = 2.5E4\n",
        "print(x*y)"
      ],
      "execution_count": 0,
      "outputs": [
        {
          "output_type": "stream",
          "text": [
            "87500000.0\n"
          ],
          "name": "stdout"
        }
      ]
    },
    {
      "cell_type": "code",
      "metadata": {
        "id": "3U0l8i3aDId8",
        "colab_type": "code",
        "outputId": "b6baade3-e4aa-4b9d-fbd5-fbdcb3a0c626",
        "colab": {
          "base_uri": "https://localhost:8080/",
          "height": 54
        }
      },
      "source": [
        "x = 3j\n",
        "print(x)\n",
        "print(type(x))\n"
      ],
      "execution_count": 0,
      "outputs": [
        {
          "output_type": "stream",
          "text": [
            "3j\n",
            "<class 'complex'>\n"
          ],
          "name": "stdout"
        }
      ]
    },
    {
      "cell_type": "code",
      "metadata": {
        "id": "yShGkxOcDd9v",
        "colab_type": "code",
        "outputId": "9e8f25de-6a5e-4709-e2fa-e429bff1bc6e",
        "colab": {
          "base_uri": "https://localhost:8080/",
          "height": 35
        }
      },
      "source": [
        "x = 20\n",
        "y  = 23.5\n",
        "\n",
        "a = float(x)\n",
        "b = int(y)\n",
        "c = complex(x)\n",
        "\n",
        "print(a, b, c)"
      ],
      "execution_count": 0,
      "outputs": [
        {
          "output_type": "stream",
          "text": [
            "20.0 23 (20+0j)\n"
          ],
          "name": "stdout"
        }
      ]
    },
    {
      "cell_type": "code",
      "metadata": {
        "id": "MWfPQV8IFF9b",
        "colab_type": "code",
        "outputId": "83e8e416-b447-4ca9-ff9d-cbae3ee8bea6",
        "colab": {
          "base_uri": "https://localhost:8080/",
          "height": 35
        }
      },
      "source": [
        "import random\n",
        "print(random.randrange(1,10))"
      ],
      "execution_count": 0,
      "outputs": [
        {
          "output_type": "stream",
          "text": [
            "5\n"
          ],
          "name": "stdout"
        }
      ]
    },
    {
      "cell_type": "code",
      "metadata": {
        "id": "amX3_enIGFU4",
        "colab_type": "code",
        "outputId": "eb2b3c81-7775-43ad-969c-2cc6ab357020",
        "colab": {
          "base_uri": "https://localhost:8080/",
          "height": 35
        }
      },
      "source": [
        "x = int(\"350\")\n",
        "y = int('5488')\n",
        "z = int(34.34)\n",
        "print(x, y, z)\n"
      ],
      "execution_count": 0,
      "outputs": [
        {
          "output_type": "stream",
          "text": [
            "350 5488 34\n"
          ],
          "name": "stdout"
        }
      ]
    },
    {
      "cell_type": "code",
      "metadata": {
        "id": "tO6lt8ncGiKH",
        "colab_type": "code",
        "outputId": "6d8939b4-74f1-45d8-de04-2e52daba45fa",
        "colab": {
          "base_uri": "https://localhost:8080/",
          "height": 54
        }
      },
      "source": [
        "a = \"\"\"My name is Adiele Oliver Chhukuebuka. I am a C, C++ and Python progammer.\n",
        "I am very very bad in the game because i wanna be a god in coding. i know its not easy but ilook up to God....so help me God, AMEN!\"\"\"\n",
        "\n",
        "print(a)"
      ],
      "execution_count": 0,
      "outputs": [
        {
          "output_type": "stream",
          "text": [
            "My name is Adiele Oliver Chhukuebuka. I am a C, C++ and Python progammer.\n",
            "I am very very bad in the game because i wanna be a god in coding. i know its not easy but ilook up to God....so help me God, AMEN!\n"
          ],
          "name": "stdout"
        }
      ]
    },
    {
      "cell_type": "code",
      "metadata": {
        "id": "6F0Kp1vOIgUl",
        "colab_type": "code",
        "outputId": "b6bb2aec-bd9c-485d-d4ac-3166762c5e50",
        "colab": {
          "base_uri": "https://localhost:8080/",
          "height": 54
        }
      },
      "source": [
        "a = '''My name is Adiele Oliver Chhukuebuka. I am a C, C++ and Python progammer.\n",
        "I am very very bad in the game because i wanna be a god in coding. i know its not easy but ilook up to God....so help me God, AMEN!'''\n",
        "\n",
        "print(a)"
      ],
      "execution_count": 0,
      "outputs": [
        {
          "output_type": "stream",
          "text": [
            "My name is Adiele Oliver Chhukuebuka. I am a C, C++ and Python progammer.\n",
            "I am very very bad in the game because i wanna be a god in coding. i know its not easy but ilook up to God....so help me God, AMEN!\n"
          ],
          "name": "stdout"
        }
      ]
    },
    {
      "cell_type": "code",
      "metadata": {
        "id": "MMeV_6dKJ0iY",
        "colab_type": "code",
        "outputId": "ddf7e631-22a2-49d9-d817-ad2fd4b79a59",
        "colab": {
          "base_uri": "https://localhost:8080/",
          "height": 35
        }
      },
      "source": [
        "a = \"Hello World\"\n",
        "print(a[1])\n"
      ],
      "execution_count": 0,
      "outputs": [
        {
          "output_type": "stream",
          "text": [
            "e\n"
          ],
          "name": "stdout"
        }
      ]
    },
    {
      "cell_type": "code",
      "metadata": {
        "id": "PGliG8puKj1C",
        "colab_type": "code",
        "outputId": "dc7e436f-84b9-4126-84de-eda113df60d4",
        "colab": {
          "base_uri": "https://localhost:8080/",
          "height": 35
        }
      },
      "source": [
        "a = \"Kodehauz\"\n",
        "print(a[1:4])"
      ],
      "execution_count": 0,
      "outputs": [
        {
          "output_type": "stream",
          "text": [
            "ode\n"
          ],
          "name": "stdout"
        }
      ]
    },
    {
      "cell_type": "code",
      "metadata": {
        "id": "3OtnaEQ5MQuX",
        "colab_type": "code",
        "outputId": "614eb3ed-e254-4b15-9ea6-7fa8c4c52c79",
        "colab": {
          "base_uri": "https://localhost:8080/",
          "height": 54
        }
      },
      "source": [
        "a = \"Kodehauz\"\n",
        "print(a[-4:-1])\n",
        "print(len(a))"
      ],
      "execution_count": 0,
      "outputs": [
        {
          "output_type": "stream",
          "text": [
            "hau\n",
            "8\n"
          ],
          "name": "stdout"
        }
      ]
    },
    {
      "cell_type": "code",
      "metadata": {
        "id": "gu6jogXDPElK",
        "colab_type": "code",
        "outputId": "f9cb1516-4244-4bb7-bcbd-140ad2e284ff",
        "colab": {
          "base_uri": "https://localhost:8080/",
          "height": 90
        }
      },
      "source": [
        "a = \"Kode,Hauz \"\n",
        "print(a.strip())\n",
        "print(a.lower())\n",
        "print(a.upper())\n",
        "print(a.split(\",\"))"
      ],
      "execution_count": 0,
      "outputs": [
        {
          "output_type": "stream",
          "text": [
            "Kode,Hauz\n",
            "kode,hauz \n",
            "KODE,HAUZ \n",
            "['Kode', 'Hauz ']\n"
          ],
          "name": "stdout"
        }
      ]
    },
    {
      "cell_type": "code",
      "metadata": {
        "id": "na01hP0PP19z",
        "colab_type": "code",
        "outputId": "46649121-87f3-4f78-afe2-ecd5e3c5bfa6",
        "colab": {
          "base_uri": "https://localhost:8080/",
          "height": 35
        }
      },
      "source": [
        "a = \"KodeHauz \"\n",
        "print(a.replace('K', 'J'))"
      ],
      "execution_count": 0,
      "outputs": [
        {
          "output_type": "stream",
          "text": [
            "JodeHauz \n"
          ],
          "name": "stdout"
        }
      ]
    },
    {
      "cell_type": "code",
      "metadata": {
        "id": "zRmPwJDUOjrk",
        "colab_type": "code",
        "outputId": "4798f1dc-7bdc-4559-e912-8ba7196f7293",
        "colab": {
          "base_uri": "https://localhost:8080/",
          "height": 72
        }
      },
      "source": [
        "text = \"The name of the company i work with is Kodehauz\"\n",
        "check = \"Kodehauz\" in text\n",
        "check2 = \"company\" not in text\n",
        "check3 = \"house\" in text\n",
        "print(check)\n",
        "print(check2)\n",
        "print(check3)"
      ],
      "execution_count": 0,
      "outputs": [
        {
          "output_type": "stream",
          "text": [
            "True\n",
            "False\n",
            "False\n"
          ],
          "name": "stdout"
        }
      ]
    },
    {
      "cell_type": "code",
      "metadata": {
        "id": "ieGcZ-82SY52",
        "colab_type": "code",
        "outputId": "1114bb3a-911e-4b00-80d0-77b497e4da78",
        "colab": {
          "base_uri": "https://localhost:8080/",
          "height": 54
        }
      },
      "source": [
        "entrance = \"Welcome to Kodehauz\"\n",
        "exit = \"Thanks for your Patronage\"\n",
        "print(entrance + exit)\n",
        "print(entrance+ \" \"+exit)"
      ],
      "execution_count": 0,
      "outputs": [
        {
          "output_type": "stream",
          "text": [
            "Welcome to KodehauzThanks for your Patronage\n",
            "Welcome to Kodehauz Thanks for your Patronage\n"
          ],
          "name": "stdout"
        }
      ]
    },
    {
      "cell_type": "code",
      "metadata": {
        "id": "k0Wlev9KzpkU",
        "colab_type": "code",
        "outputId": "c71af728-d060-4762-e0f8-bc2ae5ae0f65",
        "colab": {
          "base_uri": "https://localhost:8080/",
          "height": 35
        }
      },
      "source": [
        "age = 32\n",
        "text = \"My name is Adiele Oliver Chukwuebuka. i am {} years old\"\n",
        "print(text.format(age))"
      ],
      "execution_count": 0,
      "outputs": [
        {
          "output_type": "stream",
          "text": [
            "My name is Adiele Oliver Chukwuebuka. i am 32 years old\n"
          ],
          "name": "stdout"
        }
      ]
    },
    {
      "cell_type": "code",
      "metadata": {
        "id": "eXaoz7nS0aKV",
        "colab_type": "code",
        "outputId": "031f39a9-1317-495f-acf8-c3a24663d796",
        "colab": {
          "base_uri": "https://localhost:8080/",
          "height": 35
        }
      },
      "source": [
        "agechioma, agechisom = 32, 15\n",
        "text = \"Chioma is {} and Chisom is {} years old\"\n",
        "print(text.format(agechioma, agechisom))"
      ],
      "execution_count": 0,
      "outputs": [
        {
          "output_type": "stream",
          "text": [
            "Chioma is 32 and Chisom is 15 years old\n"
          ],
          "name": "stdout"
        }
      ]
    },
    {
      "cell_type": "code",
      "metadata": {
        "id": "-KTcoyt52Gjn",
        "colab_type": "code",
        "outputId": "df37fd3a-3d20-46c7-aaca-77e301a3fc5d",
        "colab": {
          "base_uri": "https://localhost:8080/",
          "height": 35
        }
      },
      "source": [
        "#using index numbers to place numbers accurately in a string\n",
        "\n",
        "price, fees, tfare = 500, 1000, 300\n",
        "text = \"i need {2} for tfare , {1} for the fees and {0} for the chicken\"\n",
        "print(text.format(price, fees, tfare))"
      ],
      "execution_count": 0,
      "outputs": [
        {
          "output_type": "stream",
          "text": [
            "i need 300 for tfare , 1000 for the fees and 500 for the chicken\n"
          ],
          "name": "stdout"
        }
      ]
    },
    {
      "cell_type": "code",
      "metadata": {
        "id": "O5vdFGRd691T",
        "colab_type": "code",
        "outputId": "7fb46850-142c-4760-c086-2f0bd88647ca",
        "colab": {
          "base_uri": "https://localhost:8080/",
          "height": 35
        }
      },
      "source": [
        "text = \"We are the \\\"PROGRAMMERS\\\" from Kodehauz\"\n",
        "print(text)"
      ],
      "execution_count": 0,
      "outputs": [
        {
          "output_type": "stream",
          "text": [
            "We are the \"PROGRAMMERS\" from Kodehauz\n"
          ],
          "name": "stdout"
        }
      ]
    },
    {
      "cell_type": "code",
      "metadata": {
        "id": "Z8Hub73w7MhH",
        "colab_type": "code",
        "outputId": "ddca1711-4318-404e-d9f6-0f793b4acef9",
        "colab": {
          "base_uri": "https://localhost:8080/",
          "height": 35
        }
      },
      "source": [
        "text = \"\\234\\233\\344\\343\"\n",
        "print(text)"
      ],
      "execution_count": 0,
      "outputs": [
        {
          "output_type": "stream",
          "text": [
            "äã\n"
          ],
          "name": "stdout"
        }
      ]
    },
    {
      "cell_type": "code",
      "metadata": {
        "id": "3KCp8T8w9Xxo",
        "colab_type": "code",
        "outputId": "d798d0b8-33ed-4ca7-e25b-39b85702106a",
        "colab": {
          "base_uri": "https://localhost:8080/",
          "height": 54
        }
      },
      "source": [
        "print(10>5)\n",
        "print(5>10)"
      ],
      "execution_count": 0,
      "outputs": [
        {
          "output_type": "stream",
          "text": [
            "True\n",
            "False\n"
          ],
          "name": "stdout"
        }
      ]
    },
    {
      "cell_type": "code",
      "metadata": {
        "id": "XCAvdea_DZml",
        "colab_type": "code",
        "outputId": "b00a4d54-d9f9-4aeb-c9e3-1232762044da",
        "colab": {
          "base_uri": "https://localhost:8080/",
          "height": 35
        }
      },
      "source": [
        "a, b = 30, 20\n",
        "\n",
        "if a > b:\n",
        "  print(\"yes\")\n",
        "else:\n",
        "    print(no)"
      ],
      "execution_count": 0,
      "outputs": [
        {
          "output_type": "stream",
          "text": [
            "yes\n"
          ],
          "name": "stdout"
        }
      ]
    },
    {
      "cell_type": "code",
      "metadata": {
        "id": "E3XReRGAE3xR",
        "colab_type": "code",
        "outputId": "8119ba64-9192-48bd-d07b-94d250dee535",
        "colab": {
          "base_uri": "https://localhost:8080/",
          "height": 35
        }
      },
      "source": [
        "x = 50\n",
        "print(isinstance(x, str))"
      ],
      "execution_count": 0,
      "outputs": [
        {
          "output_type": "stream",
          "text": [
            "False\n"
          ],
          "name": "stdout"
        }
      ]
    },
    {
      "cell_type": "code",
      "metadata": {
        "id": "FUMXz4kOGJKA",
        "colab_type": "code",
        "outputId": "3c67553a-d096-4406-f149-4402a5a9d8c0",
        "colab": {
          "base_uri": "https://localhost:8080/",
          "height": 35
        }
      },
      "source": [
        "x = 20\n",
        "y = 3\n",
        "print(x%y)"
      ],
      "execution_count": 0,
      "outputs": [
        {
          "output_type": "stream",
          "text": [
            "2\n"
          ],
          "name": "stdout"
        }
      ]
    },
    {
      "cell_type": "code",
      "metadata": {
        "id": "p4_jU0wFGI1s",
        "colab_type": "code",
        "outputId": "8a8648bb-05be-4e40-c4f3-5ed5bc73e47d",
        "colab": {
          "base_uri": "https://localhost:8080/",
          "height": 35
        }
      },
      "source": [
        "print(5**2)"
      ],
      "execution_count": 0,
      "outputs": [
        {
          "output_type": "stream",
          "text": [
            "25\n"
          ],
          "name": "stdout"
        }
      ]
    },
    {
      "cell_type": "code",
      "metadata": {
        "id": "pZj6Qoe_HPCG",
        "colab_type": "code",
        "outputId": "60a238f9-2be5-4596-f084-ee0382a3ebae",
        "colab": {
          "base_uri": "https://localhost:8080/",
          "height": 35
        }
      },
      "source": [
        "2**10 #2x2x2x2x2x2x2x2x2x2"
      ],
      "execution_count": 0,
      "outputs": [
        {
          "output_type": "execute_result",
          "data": {
            "text/plain": [
              "1024"
            ]
          },
          "metadata": {
            "tags": []
          },
          "execution_count": 70
        }
      ]
    },
    {
      "cell_type": "code",
      "metadata": {
        "id": "9pgnXZOTIVFG",
        "colab_type": "code",
        "outputId": "3da35ff0-bb9b-4c59-8b82-86e31f6e3988",
        "colab": {
          "base_uri": "https://localhost:8080/",
          "height": 35
        }
      },
      "source": [
        "print(25//7)"
      ],
      "execution_count": 0,
      "outputs": [
        {
          "output_type": "stream",
          "text": [
            "3\n"
          ],
          "name": "stdout"
        }
      ]
    },
    {
      "cell_type": "code",
      "metadata": {
        "id": "4E6DjtVUYPpC",
        "colab_type": "code",
        "outputId": "9f501f64-947b-4284-b110-8ca525adb1c9",
        "colab": {
          "base_uri": "https://localhost:8080/",
          "height": 513
        }
      },
      "source": [
        "#LISTS\n",
        "fruits = [\"Banana\", \"Mango\", \"Pineapple\", \"Cherry\", \"Guava\", \"Star Apple\"]\n",
        "print(fruits)\n",
        "\n",
        "#lists can be accessed with the index number\n",
        "print(fruits[2])\n",
        "\n",
        "#negative indexing....begins from the last. The first index number is -1\n",
        "print(fruits[-1])\n",
        "\n",
        "#using a range of index. Range can be negative index as well\n",
        "\n",
        "print(fruits[2:5])\n",
        "\n",
        "#To change the value of a particular item\n",
        "fruits[0]=\"Orange\"\n",
        "print(fruits)\n",
        "print(fruits)\n",
        "\n",
        "#looping through a list\n",
        "for x in fruits:\n",
        "  print(x)\n",
        "  \n",
        "#checking for membership\n",
        "if \"Orange\" in fruits:\n",
        "  print(\"yes\")\n",
        "else:\n",
        "  print(\"no\")\n",
        "  \n",
        "#Length of a list\n",
        "print(len(fruits))\n",
        "\n",
        "\n",
        "#adding an element to the end of the list\n",
        "fruits.append(\"Banana\")\n",
        "print(fruits)\n",
        "\n",
        "\n",
        "#adding an element to a specified index in a list\n",
        "fruits.insert(0, \"Tangerine\")\n",
        "print(fruits)\n",
        "\n",
        "#To remove from a list\n",
        "fruits.remove(\"Star Apple\")\n",
        "print(fruits)\n",
        "\n",
        "#To remove the last element of the list using pop\n",
        "fruits.pop() #removes a specified index or the last index if any was not specified\n",
        "print(fruits)\n",
        "\n",
        "#To remove a particular index\n",
        "del fruits[1]\n",
        "print(fruits)\n",
        "\n",
        "#To remove a list completely we use del or clear\n",
        "#del fruits\n",
        "#fruits.clear()\n",
        "#print(fruits)\n",
        "\n",
        "#To copy a list\n",
        "copyfruits = fruits.copy()\n",
        "print(copyfruits)\n",
        "\n",
        "anothercopyfruits = list(fruits)\n",
        "print(anothercopyfruits)\n",
        "\n",
        "#To join two list\n",
        "snacks = [\"Breadbuns\", \"Hamburger\", \"Egg Roll\"]\n",
        "food = fruits + snacks\n",
        "print(food)\n",
        "#***************************using the append method to add\n",
        "for x in snacks:\n",
        "  fruits.append(x)\n",
        "  print(fruits)\n",
        "#***************************using extend method\n",
        "fruits.extend(snacks)\n",
        "print(fruits)\n",
        "\n",
        "\n",
        "#using the list constructor to make a list\n",
        "food = list((\"Rice\", \"Beans\", \"Soup\"))\n",
        "print(food)\n",
        "\n",
        "\n"
      ],
      "execution_count": 0,
      "outputs": [
        {
          "output_type": "stream",
          "text": [
            "['Banana', 'Mango', 'Pineapple', 'Cherry', 'Guava', 'Star Apple']\n",
            "Pineapple\n",
            "Star Apple\n",
            "['Pineapple', 'Cherry', 'Guava']\n",
            "['Orange', 'Mango', 'Pineapple', 'Cherry', 'Guava', 'Star Apple']\n",
            "['Orange', 'Mango', 'Pineapple', 'Cherry', 'Guava', 'Star Apple']\n",
            "Orange\n",
            "Mango\n",
            "Pineapple\n",
            "Cherry\n",
            "Guava\n",
            "Star Apple\n",
            "yes\n",
            "6\n",
            "['Orange', 'Mango', 'Pineapple', 'Cherry', 'Guava', 'Star Apple', 'Banana']\n",
            "['Tangerine', 'Orange', 'Mango', 'Pineapple', 'Cherry', 'Guava', 'Star Apple', 'Banana']\n",
            "['Tangerine', 'Orange', 'Mango', 'Pineapple', 'Cherry', 'Guava', 'Banana']\n",
            "['Tangerine', 'Orange', 'Mango', 'Pineapple', 'Cherry', 'Guava']\n",
            "['Tangerine', 'Mango', 'Pineapple', 'Cherry', 'Guava']\n",
            "['Tangerine', 'Mango', 'Pineapple', 'Cherry', 'Guava']\n",
            "['Tangerine', 'Mango', 'Pineapple', 'Cherry', 'Guava']\n",
            "['Tangerine', 'Mango', 'Pineapple', 'Cherry', 'Guava', 'Breadbuns', 'Hamburger', 'Egg Roll']\n",
            "['Tangerine', 'Mango', 'Pineapple', 'Cherry', 'Guava', 'Breadbuns']\n",
            "['Tangerine', 'Mango', 'Pineapple', 'Cherry', 'Guava', 'Breadbuns', 'Hamburger']\n",
            "['Tangerine', 'Mango', 'Pineapple', 'Cherry', 'Guava', 'Breadbuns', 'Hamburger', 'Egg Roll']\n",
            "['Tangerine', 'Mango', 'Pineapple', 'Cherry', 'Guava', 'Breadbuns', 'Hamburger', 'Egg Roll', 'Breadbuns', 'Hamburger', 'Egg Roll']\n",
            "['Rice', 'Beans', 'Soup']\n"
          ],
          "name": "stdout"
        }
      ]
    },
    {
      "cell_type": "code",
      "metadata": {
        "id": "_WYk61sobELG",
        "colab_type": "code",
        "outputId": "bc64872a-ff15-4117-a720-faa8b6d50034",
        "colab": {
          "base_uri": "https://localhost:8080/",
          "height": 90
        }
      },
      "source": [
        "#TUPLE********A tuple is and ordered collection that is unchangeable(for its values). Once a tuple is created, items cannot be added to it.\n",
        "\n",
        "#creating a tuple\n",
        "fruits = (\"apple\", \"strawberry\", \"mango\")\n",
        "print(fruits)\n",
        "\n",
        "#to change the values of tuple. This is done by first converting the tuple into list and then change\n",
        "vitamin = list(fruits)\n",
        "vitamin[0] = \"Guava\"\n",
        "print(vitamin)\n",
        "\n",
        "#To add a tuple contaning 1 item. a comma is used after the item, else python wont recognize it as a tuple(a tuple is made up of more than 1 items)\n",
        "food = (\"rice\",)\n",
        "print(food)\n",
        "print(type(food))"
      ],
      "execution_count": 0,
      "outputs": [
        {
          "output_type": "stream",
          "text": [
            "('apple', 'strawberry', 'mango')\n",
            "['Guava', 'strawberry', 'mango']\n",
            "('rice',)\n",
            "<class 'tuple'>\n"
          ],
          "name": "stdout"
        }
      ]
    },
    {
      "cell_type": "code",
      "metadata": {
        "id": "W0CqHV6O8ROD",
        "colab_type": "code",
        "outputId": "def73740-4b2d-4f5b-8bb8-62d9a9b3324a",
        "colab": {
          "base_uri": "https://localhost:8080/",
          "height": 201
        }
      },
      "source": [
        "#SETS***********set is an unordered and unindexed collection......denoted by curly brackets\n",
        "\n",
        "#creating a set\n",
        "fruits = {\"pineapple\", \"orange\", \"mango\"}\n",
        "print (fruits)\n",
        "\n",
        "#to access items in a set , the for loop is used to loop through the set or check if an item is in a set by using \"in\"\n",
        "for x in fruits:\n",
        "  print(x)\n",
        "print(\"orange\" in fruits)\n",
        "\n",
        "#To add items to a set......the add()is used\n",
        "fruits.add(\"strawberry\")\n",
        "print(fruits)\n",
        "#************update() is used for adding multiple items\n",
        "fruits.update([\"star apple\", \"Guava\"])\n",
        "print(fruits)\n",
        "\n",
        "#to remove an item from a list, remove(), discard(), pop()[for last item in the set]\n",
        "fruits.remove(\"Guava\")\n",
        "print(fruits)\n",
        "\n",
        "#to join sets......Both union() and update() doesnt make duplicate of items\n",
        "food = {\"rice\", \"beans\"}\n",
        "items = fruits.union(food)\n",
        "print(items)\n",
        "items.update(fruits)\n",
        "print(items)"
      ],
      "execution_count": 0,
      "outputs": [
        {
          "output_type": "stream",
          "text": [
            "{'pineapple', 'mango', 'orange'}\n",
            "pineapple\n",
            "mango\n",
            "orange\n",
            "True\n",
            "{'pineapple', 'mango', 'orange', 'strawberry'}\n",
            "{'orange', 'mango', 'Guava', 'strawberry', 'pineapple', 'star apple'}\n",
            "{'orange', 'mango', 'strawberry', 'pineapple', 'star apple'}\n",
            "{'pineapple', 'orange', 'rice', 'beans', 'mango', 'star apple', 'strawberry'}\n",
            "{'orange', 'mango', 'strawberry', 'pineapple', 'rice', 'beans', 'star apple'}\n"
          ],
          "name": "stdout"
        }
      ]
    },
    {
      "cell_type": "code",
      "metadata": {
        "id": "SyJLinJ0YPHI",
        "colab_type": "code",
        "outputId": "3b6e2563-4a74-4b0e-e3ce-336da6aab2a5",
        "colab": {
          "base_uri": "https://localhost:8080/",
          "height": 366
        }
      },
      "source": [
        "#DICITIONARIES.......This is  a colleciton that is unordered, changeable and indexed.They have keys and are enclosed in a curly bracket\n",
        "names = { \"man\":\"ebuka\", \"name\":\"ini\",\"year\":1964}\n",
        "print(names)\n",
        "print(type(names))\n",
        "\n",
        "#Acessing items in a dictionary\n",
        "x = names[\"name\"]\n",
        "print(x)\n",
        "\n",
        "y = names.get(\"man\")\n",
        "print(y)\n",
        "\n",
        "#changing values of the items in a dictionary\n",
        "names[\"name\"] = \"Adiele\"\n",
        "print(names)\n",
        "print(\"*********************************************************************\\n\\n\")\n",
        "\n",
        "#looping through a dicitonary\n",
        "for x in names:\n",
        "  print(x, \"\\n\")\n",
        "  \n",
        "for x in names:\n",
        "  print(names[x])\n",
        "  \n",
        "#Adding items to the dictionary\n",
        "names[\"age\"] = 22\n",
        "print(names)\n",
        "\n",
        "#creating a nested dicitonary\n",
        "child1 = {\n",
        "    \"name\":\"chidiogo\",\n",
        "    \"age\":22\n",
        "}\n",
        "child2 = {\n",
        "    \"name\":\"success\",\n",
        "    \"age\":20\n",
        "}\n",
        "child3 = {\n",
        "    \"name\":\"baby\",\n",
        "    \"age\":18\n",
        "}\n",
        "\n",
        "myfamily = {\n",
        "    \"child1\" : child1,\n",
        "    \"child2\" : child2,\n",
        "    \"child3\" : child3\n",
        "}\n",
        "print(myfamily)\n"
      ],
      "execution_count": 0,
      "outputs": [
        {
          "output_type": "stream",
          "text": [
            "{'man': 'ebuka', 'name': 'ini', 'year': 1964}\n",
            "<class 'dict'>\n",
            "ini\n",
            "ebuka\n",
            "{'man': 'ebuka', 'name': 'Adiele', 'year': 1964}\n",
            "*********************************************************************\n",
            "\n",
            "\n",
            "man \n",
            "\n",
            "name \n",
            "\n",
            "year \n",
            "\n",
            "ebuka\n",
            "Adiele\n",
            "1964\n",
            "{'man': 'ebuka', 'name': 'Adiele', 'year': 1964, 'age': 22}\n",
            "{'child1': {'name': 'chidiogo', 'age': 22}, 'child2': {'name': 'success', 'age': 20}, 'child3': {'name': 'baby', 'age': 18}}\n"
          ],
          "name": "stdout"
        }
      ]
    },
    {
      "cell_type": "code",
      "metadata": {
        "id": "eOR4UeyMh20s",
        "colab_type": "code",
        "outputId": "d62d44c8-a29a-4264-86ca-3250d472fe4e",
        "colab": {
          "base_uri": "https://localhost:8080/",
          "height": 129
        }
      },
      "source": [
        "#CONDITION STATEMENT\n",
        "a = 30\n",
        "b = 20\n",
        "if a>b:\n",
        "  print(a+b)\n",
        "else:\n",
        "  print(a-b)\n",
        "  \n",
        "#Elif condition tells the compiler to check another condition incase the first one does work out\n",
        "a = 30\n",
        "b = 30\n",
        "if a > b:\n",
        "  print(a+b)\n",
        "elif a == b:\n",
        "  print(\"yes\")\n",
        "  \n",
        "  \n",
        "#Using the short hand if\n",
        "if a==b: print(a+b)\n",
        "print(a+b) if a>b else print(\"no\")\n",
        "\n",
        "#Using the AND condition......checks if both conditions are through\n",
        "a  = 10\n",
        "b = 5\n",
        "c = 4\n",
        "if a>b and b>c:\n",
        "    print(\"yes\")\n",
        "\n",
        "#using the OR condtion.....checks if any of the conditions is true\n",
        "a  = 10\n",
        "b = 5\n",
        "c = 4\n",
        "if a>b or b<c:\n",
        "    print(\"yes\")\n",
        "\n",
        "#using the pass statement.......used for an empty if statement to prevent error from the compiler\n",
        "a  = 10\n",
        "b = 5\n",
        "c = 4\n",
        "if a>b:\n",
        "  pass\n"
      ],
      "execution_count": 0,
      "outputs": [
        {
          "output_type": "stream",
          "text": [
            "50\n",
            "yes\n",
            "60\n",
            "no\n",
            "yes\n",
            "yes\n"
          ],
          "name": "stdout"
        }
      ]
    },
    {
      "cell_type": "code",
      "metadata": {
        "id": "dMqmsMK-8YPf",
        "colab_type": "code",
        "outputId": "47759a6e-d04f-41c0-d673-2733f69f429d",
        "colab": {
          "base_uri": "https://localhost:8080/",
          "height": 256
        }
      },
      "source": [
        "#WHILE LOOP\n",
        "\"\"\"\n",
        "n = 1\n",
        "while n <6:\n",
        "  print(n)\n",
        "  n+=1\n",
        "  \"\"\"\n",
        "\n",
        "#using a break statement to stop a loop\n",
        "n = 1\n",
        "while n<5:\n",
        "  print(n)\n",
        "  if(n == 3):\n",
        "    break\n",
        "  n += 1\n",
        "  \n",
        "#using the continue statement\n",
        "n = 1\n",
        "while n<6:\n",
        "  n += 1\n",
        "  if n ==3:\n",
        "    continue\n",
        "  print(n)\n",
        "  \n",
        "#using an else statement with a while statement\n",
        "n = 1\n",
        "while n <6:\n",
        "  print(n)\n",
        "  n+=1\n",
        "else:\n",
        "  print(\"error\")\n",
        "  "
      ],
      "execution_count": 0,
      "outputs": [
        {
          "output_type": "stream",
          "text": [
            "1\n",
            "2\n",
            "3\n",
            "2\n",
            "4\n",
            "5\n",
            "6\n",
            "1\n",
            "2\n",
            "3\n",
            "4\n",
            "5\n",
            "error\n"
          ],
          "name": "stdout"
        }
      ]
    },
    {
      "cell_type": "code",
      "metadata": {
        "id": "G1szX5jDwuxK",
        "colab_type": "code",
        "outputId": "ad6ee95b-4813-4e28-bdc9-958a7c44cb8e",
        "colab": {
          "base_uri": "https://localhost:8080/",
          "height": 384
        }
      },
      "source": [
        "#FOR LOOP( for loops is used to repeat a sequence which could be a list, tuple, set or dictionary)\n",
        "\n",
        "fruits = [\"apple\", \"banana\", \"cherry\"]\n",
        "for x in fruits:\n",
        "  print(x)\n",
        "  \n",
        "#using break in a for loop\n",
        "fruits = [\"apple\", \"banana\", \"cherry\"]\n",
        "for x in fruits:\n",
        "  print(x)\n",
        "  if x == \"banana\":\n",
        "    break\n",
        "    \n",
        "#using range......range is used to loop through a code number of times\n",
        "for x in range(6):\n",
        "  print(x)\n",
        "  \n",
        "  \n",
        "#nested loops\n",
        "fruits = [\"apple\", \"banana\", \"cherry\"]\n",
        "fruits1 = [\"apple\", \"banana\", \"cherry\"]\n",
        "\n",
        "for x in fruits:\n",
        "  for y in fruits1:\n",
        "    print(x,y)\n",
        "  \n"
      ],
      "execution_count": 0,
      "outputs": [
        {
          "output_type": "stream",
          "text": [
            "apple\n",
            "banana\n",
            "cherry\n",
            "apple\n",
            "banana\n",
            "0\n",
            "1\n",
            "2\n",
            "3\n",
            "4\n",
            "5\n",
            "apple apple\n",
            "apple banana\n",
            "apple cherry\n",
            "banana apple\n",
            "banana banana\n",
            "banana cherry\n",
            "cherry apple\n",
            "cherry banana\n",
            "cherry cherry\n"
          ],
          "name": "stdout"
        }
      ]
    },
    {
      "cell_type": "code",
      "metadata": {
        "id": "AKMsXtZ68_dz",
        "colab_type": "code",
        "outputId": "dddeec0a-b301-42f8-8f7c-e11b02e11c54",
        "colab": {
          "base_uri": "https://localhost:8080/",
          "height": 523
        }
      },
      "source": [
        "#FUNCTIONS........function is defined using the \"def\" keyword\n",
        "def myfunction():\n",
        "  print(\"hello world\")\n",
        "  \n",
        "myfunction()\n",
        "\n",
        "#using parameters in a function\n",
        "def names(fname):\n",
        "  print(\"Adiele \" + fname)\n",
        "  \n",
        "names(\"Ebuka\")\n",
        "names(\"success\")\n",
        "names(\"Emily\")\n",
        "\n",
        "#when a function uses a default parameter\n",
        "def state( country = \"Nigeria\"):\n",
        "  print(\"I am from \" + country)\n",
        "  \n",
        "state(\"usa\")\n",
        "state(\"canada\")\n",
        "state(\"Russia\")\n",
        "state()\n",
        "\n",
        "#passing a list to a function\n",
        "def funct(food):\n",
        "  for x in food:\n",
        "    print(x)\n",
        "    \n",
        "fruits1 = [\"apple\", \"banana\", \"cherry\"]\n",
        "funct(fruits1)\n",
        "\n",
        "#using Return statement......return is used to return a value\n",
        "def arith(x):\n",
        "  return 5 * x\n",
        "\n",
        "print(arith(3))\n",
        "print(arith(5))\n",
        "print(arith(10))\n",
        "\n",
        "#keyword arguments\n",
        "def my_function(child3, child2, child1):\n",
        "  print(\"The youngest child is \" + child3)\n",
        "\n",
        "my_function(\"Emil\",\"Tobias\",\"Linus\")\n",
        "\n",
        "\n",
        "#arbitrary arguments....used when one is not sure of the number of arguments to be passed to a function\n",
        "def kids(*kid):\n",
        "  print(\"The last child is \" + kid[0])\n",
        "  \n",
        "kids(\"chioma\", \"chidiogo\", \"Emmanuel\")\n",
        "\n",
        "\n",
        "#Recursion......situation whereby a defined function can call itself......here a function calls itself in that same function\n",
        "\n",
        "def fun(n):\n",
        "  if n > 0:\n",
        "    result = n + fun(n-1)\n",
        "    print(result)\n",
        "  else:\n",
        "    result = 0\n",
        "  return result\n",
        "\n",
        "print(\"\\n\\n\\n\")\n",
        "fun(6)\n",
        "\n",
        "\n"
      ],
      "execution_count": 3,
      "outputs": [
        {
          "output_type": "stream",
          "text": [
            "hello world\n",
            "Adiele Ebuka\n",
            "Adiele success\n",
            "Adiele Emily\n",
            "I am from usa\n",
            "I am from canada\n",
            "I am from Russia\n",
            "I am from Nigeria\n",
            "apple\n",
            "banana\n",
            "cherry\n",
            "15\n",
            "25\n",
            "50\n",
            "The youngest child is Emil\n",
            "The last child is chioma\n",
            "\n",
            "\n",
            "\n",
            "\n",
            "1\n",
            "3\n",
            "6\n",
            "10\n",
            "15\n",
            "21\n"
          ],
          "name": "stdout"
        },
        {
          "output_type": "execute_result",
          "data": {
            "text/plain": [
              "21"
            ]
          },
          "metadata": {
            "tags": []
          },
          "execution_count": 3
        }
      ]
    },
    {
      "cell_type": "code",
      "metadata": {
        "id": "mwo3VJYG7Xg0",
        "colab_type": "code",
        "colab": {
          "base_uri": "https://localhost:8080/",
          "height": 73
        },
        "outputId": "77a10db6-2285-4588-d055-c412c0ce82b1"
      },
      "source": [
        "#LAMBDA FUNCTION........Lambda function is a small anonymous function.....more like an inline function....\"lambda argument : expression\"\n",
        "#lambda function that adds 10 to any number passed \n",
        "x = lambda a: a +10\n",
        "print(x(5))\n",
        "\n",
        "#lambda function that takes 2 arguments and multiply them\n",
        "x = lambda a, b: a * b\n",
        "print(x(10,20))\n",
        "\n",
        "#using lambda in a function........\"fumction to multiply one argument with an unnown number\"\n",
        "def func(n):\n",
        "  return lambda a: a*n\n",
        "\n",
        "doubler = func(2)\n",
        "print(doubler(20))\n",
        "\n",
        "\n"
      ],
      "execution_count": 8,
      "outputs": [
        {
          "output_type": "stream",
          "text": [
            "15\n",
            "200\n",
            "40\n"
          ],
          "name": "stdout"
        }
      ]
    },
    {
      "cell_type": "code",
      "metadata": {
        "id": "8yXKuVGsCGOi",
        "colab_type": "code",
        "colab": {}
      },
      "source": [
        "#ARRAYS"
      ],
      "execution_count": 0,
      "outputs": []
    }
  ]
}