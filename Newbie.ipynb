{
  "nbformat": 4,
  "nbformat_minor": 0,
  "metadata": {
    "colab": {
      "name": "Newbie.ipynb",
      "provenance": [],
      "collapsed_sections": [],
      "include_colab_link": true
    },
    "kernelspec": {
      "name": "python3",
      "display_name": "Python 3"
    }
  },
  "cells": [
    {
      "cell_type": "markdown",
      "metadata": {
        "id": "view-in-github",
        "colab_type": "text"
      },
      "source": [
        "<a href=\"https://colab.research.google.com/github/Mrsuccess127/github-slideshow/blob/master/Newbie.ipynb\" target=\"_parent\"><img src=\"https://colab.research.google.com/assets/colab-badge.svg\" alt=\"Open In Colab\"/></a>"
      ]
    },
    {
      "cell_type": "code",
      "metadata": {
        "id": "M4nP5vmJ_3rj",
        "colab_type": "code",
        "outputId": "695fc428-b0c4-4332-a2bf-5787ecd4fcda",
        "colab": {
          "base_uri": "https://localhost:8080/",
          "height": 54
        }
      },
      "source": [
        "x = 5\n",
        "y = 10\n",
        "print(x, y)\n",
        "print(type(x), type(y))\n"
      ],
      "execution_count": 0,
      "outputs": [
        {
          "output_type": "stream",
          "text": [
            "5 10\n",
            "<class 'int'> <class 'int'>\n"
          ],
          "name": "stdout"
        }
      ]
    },
    {
      "cell_type": "code",
      "metadata": {
        "id": "Jh6OvvmvAcEa",
        "colab_type": "code",
        "outputId": "77e09ff4-b101-4824-ef02-cd1caa0cc985",
        "colab": {
          "base_uri": "https://localhost:8080/",
          "height": 35
        }
      },
      "source": [
        "x = 3.5E3\n",
        "y = 2.5E4\n",
        "print(x*y)"
      ],
      "execution_count": 0,
      "outputs": [
        {
          "output_type": "stream",
          "text": [
            "87500000.0\n"
          ],
          "name": "stdout"
        }
      ]
    },
    {
      "cell_type": "code",
      "metadata": {
        "id": "3U0l8i3aDId8",
        "colab_type": "code",
        "outputId": "b6baade3-e4aa-4b9d-fbd5-fbdcb3a0c626",
        "colab": {
          "base_uri": "https://localhost:8080/",
          "height": 54
        }
      },
      "source": [
        "x = 3j\n",
        "print(x)\n",
        "print(type(x))\n"
      ],
      "execution_count": 0,
      "outputs": [
        {
          "output_type": "stream",
          "text": [
            "3j\n",
            "<class 'complex'>\n"
          ],
          "name": "stdout"
        }
      ]
    },
    {
      "cell_type": "code",
      "metadata": {
        "id": "yShGkxOcDd9v",
        "colab_type": "code",
        "outputId": "9e8f25de-6a5e-4709-e2fa-e429bff1bc6e",
        "colab": {
          "base_uri": "https://localhost:8080/",
          "height": 35
        }
      },
      "source": [
        "x = 20\n",
        "y  = 23.5\n",
        "\n",
        "a = float(x)\n",
        "b = int(y)\n",
        "c = complex(x)\n",
        "\n",
        "print(a, b, c)"
      ],
      "execution_count": 0,
      "outputs": [
        {
          "output_type": "stream",
          "text": [
            "20.0 23 (20+0j)\n"
          ],
          "name": "stdout"
        }
      ]
    },
    {
      "cell_type": "code",
      "metadata": {
        "id": "MWfPQV8IFF9b",
        "colab_type": "code",
        "outputId": "83e8e416-b447-4ca9-ff9d-cbae3ee8bea6",
        "colab": {
          "base_uri": "https://localhost:8080/",
          "height": 35
        }
      },
      "source": [
        "import random\n",
        "print(random.randrange(1,10))"
      ],
      "execution_count": 0,
      "outputs": [
        {
          "output_type": "stream",
          "text": [
            "5\n"
          ],
          "name": "stdout"
        }
      ]
    },
    {
      "cell_type": "code",
      "metadata": {
        "id": "amX3_enIGFU4",
        "colab_type": "code",
        "outputId": "eb2b3c81-7775-43ad-969c-2cc6ab357020",
        "colab": {
          "base_uri": "https://localhost:8080/",
          "height": 35
        }
      },
      "source": [
        "x = int(\"350\")\n",
        "y = int('5488')\n",
        "z = int(34.34)\n",
        "print(x, y, z)\n"
      ],
      "execution_count": 0,
      "outputs": [
        {
          "output_type": "stream",
          "text": [
            "350 5488 34\n"
          ],
          "name": "stdout"
        }
      ]
    },
    {
      "cell_type": "code",
      "metadata": {
        "id": "tO6lt8ncGiKH",
        "colab_type": "code",
        "outputId": "6d8939b4-74f1-45d8-de04-2e52daba45fa",
        "colab": {
          "base_uri": "https://localhost:8080/",
          "height": 54
        }
      },
      "source": [
        "a = \"\"\"My name is Adiele Oliver Chhukuebuka. I am a C, C++ and Python progammer.\n",
        "I am very very bad in the game because i wanna be a god in coding. i know its not easy but ilook up to God....so help me God, AMEN!\"\"\"\n",
        "\n",
        "print(a)"
      ],
      "execution_count": 0,
      "outputs": [
        {
          "output_type": "stream",
          "text": [
            "My name is Adiele Oliver Chhukuebuka. I am a C, C++ and Python progammer.\n",
            "I am very very bad in the game because i wanna be a god in coding. i know its not easy but ilook up to God....so help me God, AMEN!\n"
          ],
          "name": "stdout"
        }
      ]
    },
    {
      "cell_type": "code",
      "metadata": {
        "id": "6F0Kp1vOIgUl",
        "colab_type": "code",
        "outputId": "b6bb2aec-bd9c-485d-d4ac-3166762c5e50",
        "colab": {
          "base_uri": "https://localhost:8080/",
          "height": 54
        }
      },
      "source": [
        "a = '''My name is Adiele Oliver Chhukuebuka. I am a C, C++ and Python progammer.\n",
        "I am very very bad in the game because i wanna be a god in coding. i know its not easy but ilook up to God....so help me God, AMEN!'''\n",
        "\n",
        "print(a)"
      ],
      "execution_count": 0,
      "outputs": [
        {
          "output_type": "stream",
          "text": [
            "My name is Adiele Oliver Chhukuebuka. I am a C, C++ and Python progammer.\n",
            "I am very very bad in the game because i wanna be a god in coding. i know its not easy but ilook up to God....so help me God, AMEN!\n"
          ],
          "name": "stdout"
        }
      ]
    },
    {
      "cell_type": "code",
      "metadata": {
        "id": "MMeV_6dKJ0iY",
        "colab_type": "code",
        "outputId": "ddf7e631-22a2-49d9-d817-ad2fd4b79a59",
        "colab": {
          "base_uri": "https://localhost:8080/",
          "height": 35
        }
      },
      "source": [
        "a = \"Hello World\"\n",
        "print(a[1])\n"
      ],
      "execution_count": 0,
      "outputs": [
        {
          "output_type": "stream",
          "text": [
            "e\n"
          ],
          "name": "stdout"
        }
      ]
    },
    {
      "cell_type": "code",
      "metadata": {
        "id": "PGliG8puKj1C",
        "colab_type": "code",
        "outputId": "dc7e436f-84b9-4126-84de-eda113df60d4",
        "colab": {
          "base_uri": "https://localhost:8080/",
          "height": 35
        }
      },
      "source": [
        "a = \"Kodehauz\"\n",
        "print(a[1:4])"
      ],
      "execution_count": 0,
      "outputs": [
        {
          "output_type": "stream",
          "text": [
            "ode\n"
          ],
          "name": "stdout"
        }
      ]
    },
    {
      "cell_type": "code",
      "metadata": {
        "id": "3OtnaEQ5MQuX",
        "colab_type": "code",
        "outputId": "614eb3ed-e254-4b15-9ea6-7fa8c4c52c79",
        "colab": {
          "base_uri": "https://localhost:8080/",
          "height": 54
        }
      },
      "source": [
        "a = \"Kodehauz\"\n",
        "print(a[-4:-1])\n",
        "print(len(a))"
      ],
      "execution_count": 0,
      "outputs": [
        {
          "output_type": "stream",
          "text": [
            "hau\n",
            "8\n"
          ],
          "name": "stdout"
        }
      ]
    },
    {
      "cell_type": "code",
      "metadata": {
        "id": "gu6jogXDPElK",
        "colab_type": "code",
        "outputId": "f9cb1516-4244-4bb7-bcbd-140ad2e284ff",
        "colab": {
          "base_uri": "https://localhost:8080/",
          "height": 90
        }
      },
      "source": [
        "a = \"Kode,Hauz \"\n",
        "print(a.strip())\n",
        "print(a.lower())\n",
        "print(a.upper())\n",
        "print(a.split(\",\"))"
      ],
      "execution_count": 0,
      "outputs": [
        {
          "output_type": "stream",
          "text": [
            "Kode,Hauz\n",
            "kode,hauz \n",
            "KODE,HAUZ \n",
            "['Kode', 'Hauz ']\n"
          ],
          "name": "stdout"
        }
      ]
    },
    {
      "cell_type": "code",
      "metadata": {
        "id": "na01hP0PP19z",
        "colab_type": "code",
        "outputId": "46649121-87f3-4f78-afe2-ecd5e3c5bfa6",
        "colab": {
          "base_uri": "https://localhost:8080/",
          "height": 35
        }
      },
      "source": [
        "a = \"KodeHauz \"\n",
        "print(a.replace('K', 'J'))"
      ],
      "execution_count": 0,
      "outputs": [
        {
          "output_type": "stream",
          "text": [
            "JodeHauz \n"
          ],
          "name": "stdout"
        }
      ]
    },
    {
      "cell_type": "code",
      "metadata": {
        "id": "zRmPwJDUOjrk",
        "colab_type": "code",
        "outputId": "4798f1dc-7bdc-4559-e912-8ba7196f7293",
        "colab": {
          "base_uri": "https://localhost:8080/",
          "height": 72
        }
      },
      "source": [
        "text = \"The name of the company i work with is Kodehauz\"\n",
        "check = \"Kodehauz\" in text\n",
        "check2 = \"company\" not in text\n",
        "check3 = \"house\" in text\n",
        "print(check)\n",
        "print(check2)\n",
        "print(check3)"
      ],
      "execution_count": 0,
      "outputs": [
        {
          "output_type": "stream",
          "text": [
            "True\n",
            "False\n",
            "False\n"
          ],
          "name": "stdout"
        }
      ]
    },
    {
      "cell_type": "code",
      "metadata": {
        "id": "ieGcZ-82SY52",
        "colab_type": "code",
        "outputId": "1114bb3a-911e-4b00-80d0-77b497e4da78",
        "colab": {
          "base_uri": "https://localhost:8080/",
          "height": 54
        }
      },
      "source": [
        "entrance = \"Welcome to Kodehauz\"\n",
        "exit = \"Thanks for your Patronage\"\n",
        "print(entrance + exit)\n",
        "print(entrance+ \" \"+exit)"
      ],
      "execution_count": 0,
      "outputs": [
        {
          "output_type": "stream",
          "text": [
            "Welcome to KodehauzThanks for your Patronage\n",
            "Welcome to Kodehauz Thanks for your Patronage\n"
          ],
          "name": "stdout"
        }
      ]
    },
    {
      "cell_type": "code",
      "metadata": {
        "id": "k0Wlev9KzpkU",
        "colab_type": "code",
        "outputId": "c71af728-d060-4762-e0f8-bc2ae5ae0f65",
        "colab": {
          "base_uri": "https://localhost:8080/",
          "height": 35
        }
      },
      "source": [
        "age = 32\n",
        "text = \"My name is Adiele Oliver Chukwuebuka. i am {} years old\"\n",
        "print(text.format(age))"
      ],
      "execution_count": 0,
      "outputs": [
        {
          "output_type": "stream",
          "text": [
            "My name is Adiele Oliver Chukwuebuka. i am 32 years old\n"
          ],
          "name": "stdout"
        }
      ]
    },
    {
      "cell_type": "code",
      "metadata": {
        "id": "eXaoz7nS0aKV",
        "colab_type": "code",
        "outputId": "031f39a9-1317-495f-acf8-c3a24663d796",
        "colab": {
          "base_uri": "https://localhost:8080/",
          "height": 35
        }
      },
      "source": [
        "agechioma, agechisom = 32, 15\n",
        "text = \"Chioma is {} and Chisom is {} years old\"\n",
        "print(text.format(agechioma, agechisom))"
      ],
      "execution_count": 0,
      "outputs": [
        {
          "output_type": "stream",
          "text": [
            "Chioma is 32 and Chisom is 15 years old\n"
          ],
          "name": "stdout"
        }
      ]
    },
    {
      "cell_type": "code",
      "metadata": {
        "id": "-KTcoyt52Gjn",
        "colab_type": "code",
        "outputId": "df37fd3a-3d20-46c7-aaca-77e301a3fc5d",
        "colab": {
          "base_uri": "https://localhost:8080/",
          "height": 35
        }
      },
      "source": [
        "#using index numbers to place numbers accurately in a string\n",
        "\n",
        "price, fees, tfare = 500, 1000, 300\n",
        "text = \"i need {2} for tfare , {1} for the fees and {0} for the chicken\"\n",
        "print(text.format(price, fees, tfare))"
      ],
      "execution_count": 0,
      "outputs": [
        {
          "output_type": "stream",
          "text": [
            "i need 300 for tfare , 1000 for the fees and 500 for the chicken\n"
          ],
          "name": "stdout"
        }
      ]
    },
    {
      "cell_type": "code",
      "metadata": {
        "id": "O5vdFGRd691T",
        "colab_type": "code",
        "outputId": "7fb46850-142c-4760-c086-2f0bd88647ca",
        "colab": {
          "base_uri": "https://localhost:8080/",
          "height": 35
        }
      },
      "source": [
        "text = \"We are the \\\"PROGRAMMERS\\\" from Kodehauz\"\n",
        "print(text)"
      ],
      "execution_count": 0,
      "outputs": [
        {
          "output_type": "stream",
          "text": [
            "We are the \"PROGRAMMERS\" from Kodehauz\n"
          ],
          "name": "stdout"
        }
      ]
    },
    {
      "cell_type": "code",
      "metadata": {
        "id": "Z8Hub73w7MhH",
        "colab_type": "code",
        "outputId": "ddca1711-4318-404e-d9f6-0f793b4acef9",
        "colab": {
          "base_uri": "https://localhost:8080/",
          "height": 35
        }
      },
      "source": [
        "text = \"\\234\\233\\344\\343\"\n",
        "print(text)"
      ],
      "execution_count": 0,
      "outputs": [
        {
          "output_type": "stream",
          "text": [
            "äã\n"
          ],
          "name": "stdout"
        }
      ]
    },
    {
      "cell_type": "code",
      "metadata": {
        "id": "3KCp8T8w9Xxo",
        "colab_type": "code",
        "outputId": "d798d0b8-33ed-4ca7-e25b-39b85702106a",
        "colab": {
          "base_uri": "https://localhost:8080/",
          "height": 54
        }
      },
      "source": [
        "print(10>5)\n",
        "print(5>10)"
      ],
      "execution_count": 0,
      "outputs": [
        {
          "output_type": "stream",
          "text": [
            "True\n",
            "False\n"
          ],
          "name": "stdout"
        }
      ]
    },
    {
      "cell_type": "code",
      "metadata": {
        "id": "XCAvdea_DZml",
        "colab_type": "code",
        "outputId": "b00a4d54-d9f9-4aeb-c9e3-1232762044da",
        "colab": {
          "base_uri": "https://localhost:8080/",
          "height": 35
        }
      },
      "source": [
        "a, b = 30, 20\n",
        "\n",
        "if a > b:\n",
        "  print(\"yes\")\n",
        "else:\n",
        "    print(no)"
      ],
      "execution_count": 0,
      "outputs": [
        {
          "output_type": "stream",
          "text": [
            "yes\n"
          ],
          "name": "stdout"
        }
      ]
    },
    {
      "cell_type": "code",
      "metadata": {
        "id": "E3XReRGAE3xR",
        "colab_type": "code",
        "outputId": "8119ba64-9192-48bd-d07b-94d250dee535",
        "colab": {
          "base_uri": "https://localhost:8080/",
          "height": 35
        }
      },
      "source": [
        "x = 50\n",
        "print(isinstance(x, str))"
      ],
      "execution_count": 0,
      "outputs": [
        {
          "output_type": "stream",
          "text": [
            "False\n"
          ],
          "name": "stdout"
        }
      ]
    },
    {
      "cell_type": "code",
      "metadata": {
        "id": "FUMXz4kOGJKA",
        "colab_type": "code",
        "outputId": "3c67553a-d096-4406-f149-4402a5a9d8c0",
        "colab": {
          "base_uri": "https://localhost:8080/",
          "height": 35
        }
      },
      "source": [
        "x = 20\n",
        "y = 3\n",
        "print(x%y)"
      ],
      "execution_count": 0,
      "outputs": [
        {
          "output_type": "stream",
          "text": [
            "2\n"
          ],
          "name": "stdout"
        }
      ]
    },
    {
      "cell_type": "code",
      "metadata": {
        "id": "p4_jU0wFGI1s",
        "colab_type": "code",
        "outputId": "8a8648bb-05be-4e40-c4f3-5ed5bc73e47d",
        "colab": {
          "base_uri": "https://localhost:8080/",
          "height": 35
        }
      },
      "source": [
        "print(5**2)"
      ],
      "execution_count": 0,
      "outputs": [
        {
          "output_type": "stream",
          "text": [
            "25\n"
          ],
          "name": "stdout"
        }
      ]
    },
    {
      "cell_type": "code",
      "metadata": {
        "id": "pZj6Qoe_HPCG",
        "colab_type": "code",
        "outputId": "60a238f9-2be5-4596-f084-ee0382a3ebae",
        "colab": {
          "base_uri": "https://localhost:8080/",
          "height": 35
        }
      },
      "source": [
        "2**10 #2x2x2x2x2x2x2x2x2x2"
      ],
      "execution_count": 0,
      "outputs": [
        {
          "output_type": "execute_result",
          "data": {
            "text/plain": [
              "1024"
            ]
          },
          "metadata": {
            "tags": []
          },
          "execution_count": 70
        }
      ]
    },
    {
      "cell_type": "code",
      "metadata": {
        "id": "9pgnXZOTIVFG",
        "colab_type": "code",
        "outputId": "3da35ff0-bb9b-4c59-8b82-86e31f6e3988",
        "colab": {
          "base_uri": "https://localhost:8080/",
          "height": 35
        }
      },
      "source": [
        "print(25//7)"
      ],
      "execution_count": 0,
      "outputs": [
        {
          "output_type": "stream",
          "text": [
            "3\n"
          ],
          "name": "stdout"
        }
      ]
    },
    {
      "cell_type": "code",
      "metadata": {
        "id": "4E6DjtVUYPpC",
        "colab_type": "code",
        "outputId": "9f501f64-947b-4284-b110-8ca525adb1c9",
        "colab": {
          "base_uri": "https://localhost:8080/",
          "height": 513
        }
      },
      "source": [
        "#LISTS\n",
        "fruits = [\"Banana\", \"Mango\", \"Pineapple\", \"Cherry\", \"Guava\", \"Star Apple\"]\n",
        "print(fruits)\n",
        "\n",
        "#lists can be accessed with the index number\n",
        "print(fruits[2])\n",
        "\n",
        "#negative indexing....begins from the last. The first index number is -1\n",
        "print(fruits[-1])\n",
        "\n",
        "#using a range of index. Range can be negative index as well\n",
        "\n",
        "print(fruits[2:5])\n",
        "\n",
        "#To change the value of a particular item\n",
        "fruits[0]=\"Orange\"\n",
        "print(fruits)\n",
        "print(fruits)\n",
        "\n",
        "#looping through a list\n",
        "for x in fruits:\n",
        "  print(x)\n",
        "  \n",
        "#checking for membership\n",
        "if \"Orange\" in fruits:\n",
        "  print(\"yes\")\n",
        "else:\n",
        "  print(\"no\")\n",
        "  \n",
        "#Length of a list\n",
        "print(len(fruits))\n",
        "\n",
        "\n",
        "#adding an element to the end of the list\n",
        "fruits.append(\"Banana\")\n",
        "print(fruits)\n",
        "\n",
        "\n",
        "#adding an element to a specified index in a list\n",
        "fruits.insert(0, \"Tangerine\")\n",
        "print(fruits)\n",
        "\n",
        "#To remove from a list\n",
        "fruits.remove(\"Star Apple\")\n",
        "print(fruits)\n",
        "\n",
        "#To remove the last element of the list using pop\n",
        "fruits.pop() #removes a specified index or the last index if any was not specified\n",
        "print(fruits)\n",
        "\n",
        "#To remove a particular index\n",
        "del fruits[1]\n",
        "print(fruits)\n",
        "\n",
        "#To remove a list completely we use del or clear\n",
        "#del fruits\n",
        "#fruits.clear()\n",
        "#print(fruits)\n",
        "\n",
        "#To copy a list\n",
        "copyfruits = fruits.copy()\n",
        "print(copyfruits)\n",
        "\n",
        "anothercopyfruits = list(fruits)\n",
        "print(anothercopyfruits)\n",
        "\n",
        "#To join two list\n",
        "snacks = [\"Breadbuns\", \"Hamburger\", \"Egg Roll\"]\n",
        "food = fruits + snacks\n",
        "print(food)\n",
        "#***************************using the append method to add\n",
        "for x in snacks:\n",
        "  fruits.append(x)\n",
        "  print(fruits)\n",
        "#***************************using extend method\n",
        "fruits.extend(snacks)\n",
        "print(fruits)\n",
        "\n",
        "\n",
        "#using the list constructor to make a list\n",
        "food = list((\"Rice\", \"Beans\", \"Soup\"))\n",
        "print(food)\n",
        "\n",
        "\n"
      ],
      "execution_count": 0,
      "outputs": [
        {
          "output_type": "stream",
          "text": [
            "['Banana', 'Mango', 'Pineapple', 'Cherry', 'Guava', 'Star Apple']\n",
            "Pineapple\n",
            "Star Apple\n",
            "['Pineapple', 'Cherry', 'Guava']\n",
            "['Orange', 'Mango', 'Pineapple', 'Cherry', 'Guava', 'Star Apple']\n",
            "['Orange', 'Mango', 'Pineapple', 'Cherry', 'Guava', 'Star Apple']\n",
            "Orange\n",
            "Mango\n",
            "Pineapple\n",
            "Cherry\n",
            "Guava\n",
            "Star Apple\n",
            "yes\n",
            "6\n",
            "['Orange', 'Mango', 'Pineapple', 'Cherry', 'Guava', 'Star Apple', 'Banana']\n",
            "['Tangerine', 'Orange', 'Mango', 'Pineapple', 'Cherry', 'Guava', 'Star Apple', 'Banana']\n",
            "['Tangerine', 'Orange', 'Mango', 'Pineapple', 'Cherry', 'Guava', 'Banana']\n",
            "['Tangerine', 'Orange', 'Mango', 'Pineapple', 'Cherry', 'Guava']\n",
            "['Tangerine', 'Mango', 'Pineapple', 'Cherry', 'Guava']\n",
            "['Tangerine', 'Mango', 'Pineapple', 'Cherry', 'Guava']\n",
            "['Tangerine', 'Mango', 'Pineapple', 'Cherry', 'Guava']\n",
            "['Tangerine', 'Mango', 'Pineapple', 'Cherry', 'Guava', 'Breadbuns', 'Hamburger', 'Egg Roll']\n",
            "['Tangerine', 'Mango', 'Pineapple', 'Cherry', 'Guava', 'Breadbuns']\n",
            "['Tangerine', 'Mango', 'Pineapple', 'Cherry', 'Guava', 'Breadbuns', 'Hamburger']\n",
            "['Tangerine', 'Mango', 'Pineapple', 'Cherry', 'Guava', 'Breadbuns', 'Hamburger', 'Egg Roll']\n",
            "['Tangerine', 'Mango', 'Pineapple', 'Cherry', 'Guava', 'Breadbuns', 'Hamburger', 'Egg Roll', 'Breadbuns', 'Hamburger', 'Egg Roll']\n",
            "['Rice', 'Beans', 'Soup']\n"
          ],
          "name": "stdout"
        }
      ]
    },
    {
      "cell_type": "code",
      "metadata": {
        "id": "_WYk61sobELG",
        "colab_type": "code",
        "outputId": "bc64872a-ff15-4117-a720-faa8b6d50034",
        "colab": {
          "base_uri": "https://localhost:8080/",
          "height": 90
        }
      },
      "source": [
        "#TUPLE********A tuple is and ordered collection that is unchangeable(for its values). Once a tuple is created, items cannot be added to it.\n",
        "\n",
        "#creating a tuple\n",
        "fruits = (\"apple\", \"strawberry\", \"mango\")\n",
        "print(fruits)\n",
        "\n",
        "#to change the values of tuple. This is done by first converting the tuple into list and then change\n",
        "vitamin = list(fruits)\n",
        "vitamin[0] = \"Guava\"\n",
        "print(vitamin)\n",
        "\n",
        "#To add a tuple contaning 1 item. a comma is used after the item, else python wont recognize it as a tuple(a tuple is made up of more than 1 items)\n",
        "food = (\"rice\",)\n",
        "print(food)\n",
        "print(type(food))"
      ],
      "execution_count": 0,
      "outputs": [
        {
          "output_type": "stream",
          "text": [
            "('apple', 'strawberry', 'mango')\n",
            "['Guava', 'strawberry', 'mango']\n",
            "('rice',)\n",
            "<class 'tuple'>\n"
          ],
          "name": "stdout"
        }
      ]
    },
    {
      "cell_type": "code",
      "metadata": {
        "id": "W0CqHV6O8ROD",
        "colab_type": "code",
        "outputId": "def73740-4b2d-4f5b-8bb8-62d9a9b3324a",
        "colab": {
          "base_uri": "https://localhost:8080/",
          "height": 201
        }
      },
      "source": [
        "#SETS***********set is an unordered and unindexed collection......denoted by curly brackets\n",
        "\n",
        "#creating a set\n",
        "fruits = {\"pineapple\", \"orange\", \"mango\"}\n",
        "print (fruits)\n",
        "\n",
        "#to access items in a set , the for loop is used to loop through the set or check if an item is in a set by using \"in\"\n",
        "for x in fruits:\n",
        "  print(x)\n",
        "print(\"orange\" in fruits)\n",
        "\n",
        "#To add items to a set......the add()is used\n",
        "fruits.add(\"strawberry\")\n",
        "print(fruits)\n",
        "#************update() is used for adding multiple items\n",
        "fruits.update([\"star apple\", \"Guava\"])\n",
        "print(fruits)\n",
        "\n",
        "#to remove an item from a list, remove(), discard(), pop()[for last item in the set]\n",
        "fruits.remove(\"Guava\")\n",
        "print(fruits)\n",
        "\n",
        "#to join sets......Both union() and update() doesnt make duplicate of items\n",
        "food = {\"rice\", \"beans\"}\n",
        "items = fruits.union(food)\n",
        "print(items)\n",
        "items.update(fruits)\n",
        "print(items)"
      ],
      "execution_count": 0,
      "outputs": [
        {
          "output_type": "stream",
          "text": [
            "{'pineapple', 'mango', 'orange'}\n",
            "pineapple\n",
            "mango\n",
            "orange\n",
            "True\n",
            "{'pineapple', 'mango', 'orange', 'strawberry'}\n",
            "{'orange', 'mango', 'Guava', 'strawberry', 'pineapple', 'star apple'}\n",
            "{'orange', 'mango', 'strawberry', 'pineapple', 'star apple'}\n",
            "{'pineapple', 'orange', 'rice', 'beans', 'mango', 'star apple', 'strawberry'}\n",
            "{'orange', 'mango', 'strawberry', 'pineapple', 'rice', 'beans', 'star apple'}\n"
          ],
          "name": "stdout"
        }
      ]
    },
    {
      "cell_type": "code",
      "metadata": {
        "id": "SyJLinJ0YPHI",
        "colab_type": "code",
        "outputId": "3b6e2563-4a74-4b0e-e3ce-336da6aab2a5",
        "colab": {
          "base_uri": "https://localhost:8080/",
          "height": 366
        }
      },
      "source": [
        "#DICITIONARIES.......This is  a colleciton that is unordered, changeable and indexed.They have keys and are enclosed in a curly bracket\n",
        "names = { \"man\":\"ebuka\", \"name\":\"ini\",\"year\":1964}\n",
        "print(names)\n",
        "print(type(names))\n",
        "\n",
        "#Acessing items in a dictionary\n",
        "x = names[\"name\"]\n",
        "print(x)\n",
        "\n",
        "y = names.get(\"man\")\n",
        "print(y)\n",
        "\n",
        "#changing values of the items in a dictionary\n",
        "names[\"name\"] = \"Adiele\"\n",
        "print(names)\n",
        "print(\"*********************************************************************\\n\\n\")\n",
        "\n",
        "#looping through a dicitonary\n",
        "for x in names:\n",
        "  print(x, \"\\n\")\n",
        "  \n",
        "for x in names:\n",
        "  print(names[x])\n",
        "  \n",
        "#Adding items to the dictionary\n",
        "names[\"age\"] = 22\n",
        "print(names)\n",
        "\n",
        "#creating a nested dicitonary\n",
        "child1 = {\n",
        "    \"name\":\"chidiogo\",\n",
        "    \"age\":22\n",
        "}\n",
        "child2 = {\n",
        "    \"name\":\"success\",\n",
        "    \"age\":20\n",
        "}\n",
        "child3 = {\n",
        "    \"name\":\"baby\",\n",
        "    \"age\":18\n",
        "}\n",
        "\n",
        "myfamily = {\n",
        "    \"child1\" : child1,\n",
        "    \"child2\" : child2,\n",
        "    \"child3\" : child3\n",
        "}\n",
        "print(myfamily)\n"
      ],
      "execution_count": 0,
      "outputs": [
        {
          "output_type": "stream",
          "text": [
            "{'man': 'ebuka', 'name': 'ini', 'year': 1964}\n",
            "<class 'dict'>\n",
            "ini\n",
            "ebuka\n",
            "{'man': 'ebuka', 'name': 'Adiele', 'year': 1964}\n",
            "*********************************************************************\n",
            "\n",
            "\n",
            "man \n",
            "\n",
            "name \n",
            "\n",
            "year \n",
            "\n",
            "ebuka\n",
            "Adiele\n",
            "1964\n",
            "{'man': 'ebuka', 'name': 'Adiele', 'year': 1964, 'age': 22}\n",
            "{'child1': {'name': 'chidiogo', 'age': 22}, 'child2': {'name': 'success', 'age': 20}, 'child3': {'name': 'baby', 'age': 18}}\n"
          ],
          "name": "stdout"
        }
      ]
    },
    {
      "cell_type": "code",
      "metadata": {
        "id": "eOR4UeyMh20s",
        "colab_type": "code",
        "outputId": "d62d44c8-a29a-4264-86ca-3250d472fe4e",
        "colab": {
          "base_uri": "https://localhost:8080/",
          "height": 129
        }
      },
      "source": [
        "#CONDITION STATEMENT\n",
        "a = 30\n",
        "b = 20\n",
        "if a>b:\n",
        "  print(a+b)\n",
        "else:\n",
        "  print(a-b)\n",
        "  \n",
        "#Elif condition tells the compiler to check another condition incase the first one does work out\n",
        "a = 30\n",
        "b = 30\n",
        "if a > b:\n",
        "  print(a+b)\n",
        "elif a == b:\n",
        "  print(\"yes\")\n",
        "  \n",
        "  \n",
        "#Using the short hand if\n",
        "if a==b: print(a+b)\n",
        "print(a+b) if a>b else print(\"no\")\n",
        "\n",
        "#Using the AND condition......checks if both conditions are through\n",
        "a  = 10\n",
        "b = 5\n",
        "c = 4\n",
        "if a>b and b>c:\n",
        "    print(\"yes\")\n",
        "\n",
        "#using the OR condtion.....checks if any of the conditions is true\n",
        "a  = 10\n",
        "b = 5\n",
        "c = 4\n",
        "if a>b or b<c:\n",
        "    print(\"yes\")\n",
        "\n",
        "#using the pass statement.......used for an empty if statement to prevent error from the compiler\n",
        "a  = 10\n",
        "b = 5\n",
        "c = 4\n",
        "if a>b:\n",
        "  pass\n"
      ],
      "execution_count": 0,
      "outputs": [
        {
          "output_type": "stream",
          "text": [
            "50\n",
            "yes\n",
            "60\n",
            "no\n",
            "yes\n",
            "yes\n"
          ],
          "name": "stdout"
        }
      ]
    },
    {
      "cell_type": "code",
      "metadata": {
        "id": "dMqmsMK-8YPf",
        "colab_type": "code",
        "outputId": "47759a6e-d04f-41c0-d673-2733f69f429d",
        "colab": {
          "base_uri": "https://localhost:8080/",
          "height": 256
        }
      },
      "source": [
        "#WHILE LOOP\n",
        "\"\"\"\n",
        "n = 1\n",
        "while n <6:\n",
        "  print(n)\n",
        "  n+=1\n",
        "  \"\"\"\n",
        "\n",
        "#using a break statement to stop a loop\n",
        "n = 1\n",
        "while n<5:\n",
        "  print(n)\n",
        "  if(n == 3):\n",
        "    break\n",
        "  n += 1\n",
        "  \n",
        "#using the continue statement\n",
        "n = 1\n",
        "while n<6:\n",
        "  n += 1\n",
        "  if n ==3:\n",
        "    continue\n",
        "  print(n)\n",
        "  \n",
        "#using an else statement with a while statement\n",
        "n = 1\n",
        "while n <6:\n",
        "  print(n)\n",
        "  n+=1\n",
        "else:\n",
        "  print(\"error\")\n",
        "  "
      ],
      "execution_count": 0,
      "outputs": [
        {
          "output_type": "stream",
          "text": [
            "1\n",
            "2\n",
            "3\n",
            "2\n",
            "4\n",
            "5\n",
            "6\n",
            "1\n",
            "2\n",
            "3\n",
            "4\n",
            "5\n",
            "error\n"
          ],
          "name": "stdout"
        }
      ]
    },
    {
      "cell_type": "code",
      "metadata": {
        "id": "G1szX5jDwuxK",
        "colab_type": "code",
        "outputId": "ad6ee95b-4813-4e28-bdc9-958a7c44cb8e",
        "colab": {
          "base_uri": "https://localhost:8080/",
          "height": 384
        }
      },
      "source": [
        "#FOR LOOP( for loops is used to repeat a sequence which could be a list, tuple, set or dictionary)\n",
        "\n",
        "fruits = [\"apple\", \"banana\", \"cherry\"]\n",
        "for x in fruits:\n",
        "  print(x)\n",
        "  \n",
        "#using break in a for loop\n",
        "fruits = [\"apple\", \"banana\", \"cherry\"]\n",
        "for x in fruits:\n",
        "  print(x)\n",
        "  if x == \"banana\":\n",
        "    break\n",
        "    \n",
        "#using range......range is used to loop through a code number of times\n",
        "for x in range(6):\n",
        "  print(x)\n",
        "  \n",
        "  \n",
        "#nested loops\n",
        "fruits = [\"apple\", \"banana\", \"cherry\"]\n",
        "fruits1 = [\"apple\", \"banana\", \"cherry\"]\n",
        "\n",
        "for x in fruits:\n",
        "  for y in fruits1:\n",
        "    print(x,y)\n",
        "  \n"
      ],
      "execution_count": 0,
      "outputs": [
        {
          "output_type": "stream",
          "text": [
            "apple\n",
            "banana\n",
            "cherry\n",
            "apple\n",
            "banana\n",
            "0\n",
            "1\n",
            "2\n",
            "3\n",
            "4\n",
            "5\n",
            "apple apple\n",
            "apple banana\n",
            "apple cherry\n",
            "banana apple\n",
            "banana banana\n",
            "banana cherry\n",
            "cherry apple\n",
            "cherry banana\n",
            "cherry cherry\n"
          ],
          "name": "stdout"
        }
      ]
    },
    {
      "cell_type": "code",
      "metadata": {
        "id": "AKMsXtZ68_dz",
        "colab_type": "code",
        "outputId": "dddeec0a-b301-42f8-8f7c-e11b02e11c54",
        "colab": {
          "base_uri": "https://localhost:8080/",
          "height": 523
        }
      },
      "source": [
        "#FUNCTIONS........function is defined using the \"def\" keyword\n",
        "def myfunction():\n",
        "  print(\"hello world\")\n",
        "  \n",
        "myfunction()\n",
        "\n",
        "#using parameters in a function\n",
        "def names(fname):\n",
        "  print(\"Adiele \" + fname)\n",
        "  \n",
        "names(\"Ebuka\")\n",
        "names(\"success\")\n",
        "names(\"Emily\")\n",
        "\n",
        "#when a function uses a default parameter\n",
        "def state( country = \"Nigeria\"):\n",
        "  print(\"I am from \" + country)\n",
        "  \n",
        "state(\"usa\")\n",
        "state(\"canada\")\n",
        "state(\"Russia\")\n",
        "state()\n",
        "\n",
        "#passing a list to a function\n",
        "def funct(food):\n",
        "  for x in food:\n",
        "    print(x)\n",
        "    \n",
        "fruits1 = [\"apple\", \"banana\", \"cherry\"]\n",
        "funct(fruits1)\n",
        "\n",
        "#using Return statement......return is used to return a value\n",
        "def arith(x):\n",
        "  return 5 * x\n",
        "\n",
        "print(arith(3))\n",
        "print(arith(5))\n",
        "print(arith(10))\n",
        "\n",
        "#keyword arguments\n",
        "def my_function(child3, child2, child1):\n",
        "  print(\"The youngest child is \" + child3)\n",
        "\n",
        "my_function(\"Emil\",\"Tobias\",\"Linus\")\n",
        "\n",
        "\n",
        "#arbitrary arguments....used when one is not sure of the number of arguments to be passed to a function\n",
        "def kids(*kid):\n",
        "  print(\"The last child is \" + kid[0])\n",
        "  \n",
        "kids(\"chioma\", \"chidiogo\", \"Emmanuel\")\n",
        "\n",
        "\n",
        "#Recursion......situation whereby a defined function can call itself......here a function calls itself in that same function\n",
        "\n",
        "def fun(n):\n",
        "  if n > 0:\n",
        "    result = n + fun(n-1)\n",
        "    print(result)\n",
        "  else:\n",
        "    result = 0\n",
        "  return result\n",
        "\n",
        "print(\"\\n\\n\\n\")\n",
        "fun(6)\n",
        "\n",
        "\n"
      ],
      "execution_count": 0,
      "outputs": [
        {
          "output_type": "stream",
          "text": [
            "hello world\n",
            "Adiele Ebuka\n",
            "Adiele success\n",
            "Adiele Emily\n",
            "I am from usa\n",
            "I am from canada\n",
            "I am from Russia\n",
            "I am from Nigeria\n",
            "apple\n",
            "banana\n",
            "cherry\n",
            "15\n",
            "25\n",
            "50\n",
            "The youngest child is Emil\n",
            "The last child is chioma\n",
            "\n",
            "\n",
            "\n",
            "\n",
            "1\n",
            "3\n",
            "6\n",
            "10\n",
            "15\n",
            "21\n"
          ],
          "name": "stdout"
        },
        {
          "output_type": "execute_result",
          "data": {
            "text/plain": [
              "21"
            ]
          },
          "metadata": {
            "tags": []
          },
          "execution_count": 3
        }
      ]
    },
    {
      "cell_type": "code",
      "metadata": {
        "id": "mwo3VJYG7Xg0",
        "colab_type": "code",
        "outputId": "77a10db6-2285-4588-d055-c412c0ce82b1",
        "colab": {
          "base_uri": "https://localhost:8080/",
          "height": 73
        }
      },
      "source": [
        "#LAMBDA FUNCTION........Lambda function is a small anonymous function.....more like an inline function....\"lambda argument : expression\"\n",
        "#lambda function that adds 10 to any number passed \n",
        "x = lambda a: a +10\n",
        "print(x(5))\n",
        "\n",
        "#lambda function that takes 2 arguments and multiply them\n",
        "x = lambda a, b: a * b\n",
        "print(x(10,20))\n",
        "\n",
        "#using lambda in a function........\"fumction to multiply one argument with an unnown number\"\n",
        "def func(n):\n",
        "  return lambda a: a*n\n",
        "\n",
        "doubler = func(2)\n",
        "print(doubler(20))\n",
        "\n",
        "\n"
      ],
      "execution_count": 0,
      "outputs": [
        {
          "output_type": "stream",
          "text": [
            "15\n",
            "200\n",
            "40\n"
          ],
          "name": "stdout"
        }
      ]
    },
    {
      "cell_type": "code",
      "metadata": {
        "id": "8yXKuVGsCGOi",
        "colab_type": "code",
        "outputId": "2b2b6f40-617a-47a2-9842-59c9c1e6e388",
        "colab": {
          "base_uri": "https://localhost:8080/",
          "height": 54
        }
      },
      "source": [
        "#ARRAYS.......array is  a special variable which can hold more than one values at the same time\n",
        "cars = [\"toyota\", \"honda\", \"kia\", \"lexus\"]\n",
        "print(cars[3])\n",
        "cars.append(\"lamborghini\")\n",
        "print(cars)\n"
      ],
      "execution_count": 0,
      "outputs": [
        {
          "output_type": "stream",
          "text": [
            "lexus\n",
            "['toyota', 'honda', 'kia', 'lexus', 'lamborghini']\n"
          ],
          "name": "stdout"
        }
      ]
    },
    {
      "cell_type": "code",
      "metadata": {
        "id": "XQzwaH5LD2Go",
        "colab_type": "code",
        "outputId": "e93d0a9f-5c57-4e61-9260-32863a8d159a",
        "colab": {
          "base_uri": "https://localhost:8080/",
          "height": 381
        }
      },
      "source": [
        "#CLASSES AND OBJECTS........\n",
        "#creating a class\n",
        "class myclass:\n",
        "  x = 5\n",
        "print(myclass)\n",
        "\n",
        "#creating an object of the class\n",
        "p1 = myclass()\n",
        "print(p1.x)\n",
        "\n",
        "#using the __init__() function\n",
        "# using the __init__() function to get a name and age of a person\n",
        "class person:        #creating a class person\n",
        "  def __init__(self, name, age):\n",
        "    self.name = name\n",
        "    self.age = age\n",
        "\n",
        "p1 = person(\"John\", 56)\n",
        "print(p1.name)\n",
        "print(p1.age)\n",
        "\n",
        "#object methods.....methods are functions\n",
        "class nomenclature:\n",
        "  def __init__(self, name, age):\n",
        "    self.name = name\n",
        "    self.age = age\n",
        "\n",
        "  def naming(self):\n",
        "     print(\"My name is \" + self.name)\n",
        "\n",
        "p1 = nomenclature(\"John\", 34)\n",
        "p1.naming()\n",
        "\n",
        "#the self parameter....The self parameter is a reference to an object of a class. it is used to access variables that belong to a class. it must not be named self, any other name can be used\n",
        "class square:\n",
        "  def __init__(area, length, width):\n",
        "   area.length = length     #to enable accessibility to the variables of the class square\n",
        "   area.width = width\n",
        "\n",
        "  def func(area):\n",
        "   print(\"The area of the square is \" +  area.length)\n",
        "p1 = square(\"george\", 50)\n",
        "p1.age = 40 #to modify an object of the class\n",
        "p1.func()\n",
        "print(p1.age)\n",
        "del p1.age\n",
        "print(p1.age)\n",
        "\n",
        "\n"
      ],
      "execution_count": 0,
      "outputs": [
        {
          "output_type": "stream",
          "text": [
            "<class '__main__.myclass'>\n",
            "5\n",
            "John\n",
            "56\n",
            "My name is John\n",
            "The area of the square is george\n",
            "40\n"
          ],
          "name": "stdout"
        },
        {
          "output_type": "error",
          "ename": "AttributeError",
          "evalue": "ignored",
          "traceback": [
            "\u001b[0;31m---------------------------------------------------------------------------\u001b[0m",
            "\u001b[0;31mAttributeError\u001b[0m                            Traceback (most recent call last)",
            "\u001b[0;32m<ipython-input-32-7d8c1c7caf9b>\u001b[0m in \u001b[0;36m<module>\u001b[0;34m()\u001b[0m\n\u001b[1;32m     43\u001b[0m \u001b[0mprint\u001b[0m\u001b[0;34m(\u001b[0m\u001b[0mp1\u001b[0m\u001b[0;34m.\u001b[0m\u001b[0mage\u001b[0m\u001b[0;34m)\u001b[0m\u001b[0;34m\u001b[0m\u001b[0;34m\u001b[0m\u001b[0m\n\u001b[1;32m     44\u001b[0m \u001b[0;32mdel\u001b[0m \u001b[0mp1\u001b[0m\u001b[0;34m.\u001b[0m\u001b[0mage\u001b[0m\u001b[0;34m\u001b[0m\u001b[0;34m\u001b[0m\u001b[0m\n\u001b[0;32m---> 45\u001b[0;31m \u001b[0mprint\u001b[0m\u001b[0;34m(\u001b[0m\u001b[0mp1\u001b[0m\u001b[0;34m.\u001b[0m\u001b[0mage\u001b[0m\u001b[0;34m)\u001b[0m\u001b[0;34m\u001b[0m\u001b[0;34m\u001b[0m\u001b[0m\n\u001b[0m\u001b[1;32m     46\u001b[0m \u001b[0;34m\u001b[0m\u001b[0m\n\u001b[1;32m     47\u001b[0m \u001b[0;34m\u001b[0m\u001b[0m\n",
            "\u001b[0;31mAttributeError\u001b[0m: 'square' object has no attribute 'age'"
          ]
        }
      ]
    },
    {
      "cell_type": "code",
      "metadata": {
        "id": "IsNcldMvLbSf",
        "colab_type": "code",
        "outputId": "44127254-8c67-4ded-b2cf-795a62754d95",
        "colab": {
          "base_uri": "https://localhost:8080/",
          "height": 148
        }
      },
      "source": [
        "#INHERITANCE.......inheritance enables us to define a class that inherits all the methods and properties of another class\n",
        "#parent class is a class inherited from while child class is one created from the parent class\n",
        "\n",
        "#creating a parent class\n",
        "class parent:\n",
        "  def __init__(self, lname, fname):\n",
        "    self.lname = lname\n",
        "    self.fname = fname\n",
        "  def printname(self):\n",
        "    print(self.lname, self.fname)\n",
        "p1 = parent(\"Adiele\", \"Oliver\")\n",
        "p1.printname()\n",
        "\n",
        "#creating a child class from a parent \n",
        "class student(parent):\n",
        "  pass    #This is used when one wants the cild class to bear exact features with the parent class without adding anything\n",
        "\n",
        "p2 = student(\"Ike\", \"Mercy\")\n",
        "p2.printname()\n",
        "\n",
        "#Adding the __init__() function\n",
        "class ss3:\n",
        "  def __init__(student, lname, fname):\n",
        "    student.lname = lname\n",
        "    student.fname = fname\n",
        "  def printname(student):\n",
        "    print(student.lname, student.fname)\n",
        "\n",
        "class student(ss3):\n",
        "  def __init__(student, lname, fname):\n",
        "    ss3.__init__(student, lname, fname)\n",
        "p = student(\"Okoro\", \"ogechi\")\n",
        "p.printname()\n",
        "\n",
        "#using the super function......this function makes the child class inherit all the properties and methods from its parents.This is used instead of using the parent class name\n",
        "class family:\n",
        "  def __init__(child, name, age):\n",
        "    child.name = name\n",
        "    child.age = age\n",
        "  def printname(child):\n",
        "    print(child.name, child.age)\n",
        "\n",
        "class children(family):\n",
        "  def __init__(child, name, age, complexion, year):\n",
        "    super().__init__(name, age)\n",
        "    #Adding a poperty \"complexion\"\n",
        "    child.complexion = complexion\n",
        "    child.graduationyear = year\n",
        "    #Adding method \"welcome\" to the class children\n",
        "  def welcome(child):\n",
        "    print(\"Welcome \", child.name, \",\", \"of \", child.age, \"into \", child.graduationyear)\n",
        "\n",
        "x = children(\"Emeka\", \"22 years\", \"fair\", 2018)\n",
        "x.printname()\n",
        "print(x.complexion)\n",
        "print(x.graduationyear)\n",
        "x.welcome()\n",
        "\n",
        "\n",
        "\n",
        "\n",
        "    \n"
      ],
      "execution_count": 0,
      "outputs": [
        {
          "output_type": "stream",
          "text": [
            "Adiele Oliver\n",
            "Ike Mercy\n",
            "Okoro ogechi\n",
            "Emeka 22 years\n",
            "fair\n",
            "2018\n",
            "Welcome  Emeka , of  22 years into  2018\n"
          ],
          "name": "stdout"
        }
      ]
    },
    {
      "cell_type": "code",
      "metadata": {
        "id": "Dn-jzBwCkxEM",
        "colab_type": "code",
        "colab": {
          "base_uri": "https://localhost:8080/",
          "height": 560
        },
        "outputId": "ac5b12b3-268f-4142-84b2-c6e6588f784c"
      },
      "source": [
        "#ITERATORS...... Iterator is an object which contains countable number of values. it is an object that can be iterated on, you can traverse through all its values. lists, tuples, dictionaries and sets are all iterable objects\n",
        "\n",
        "#Iterating through a list\n",
        "mylist = [\"banana\", \"orange\", \"mango\"]\n",
        "myiterator = iter(mylist)\n",
        "\n",
        "print(next(myiterator))\n",
        "print(next(myiterator))\n",
        "print(next(myiterator))\n",
        "\n",
        "#Iterating through a string\n",
        "fruit = \"Banana\"\n",
        "it= iter(fruit)\n",
        "\n",
        "print(next(it))\n",
        "print(next(it))\n",
        "print(next(it))\n",
        "print(next(it))\n",
        "print(next(it))\n",
        "\n",
        "# A for loop ca be used to iterate through an iterator\n",
        "\n",
        "#using an iterator in a class, \"__iter__() and __next__()\" replaces __init__.......__iter__() allows you to do an iteration and returns the object of the iteration....__next__() allows you to do an operation and returns the next item on the sequence\n",
        "\n",
        "#iterating a class of numbers starting from 1...the sequence increases by 1 \n",
        "class numbers:\n",
        "  def __iter__(num):\n",
        "    num.a = 1\n",
        "    return num\n",
        "  def __next__(num):\n",
        "    n = num.a\n",
        "    num.a += 1\n",
        "    return n\n",
        "\n",
        "myclass = numbers()\n",
        "it = iter(myclass)\n",
        "print(next(it))\n",
        "print(next(it))\n",
        "print(next(it))\n",
        "print(next(it))\n",
        "print(next(it))\n",
        "print(next(it))\n",
        "\n",
        "#iterating a class of numbers starting from 1...the sequence increases by itself\n",
        "\n",
        "class digits:\n",
        "  def __iter__(num):\n",
        "    num.a = 1\n",
        "    return num\n",
        "\n",
        "  def __next__(num):\n",
        "    x = num.a\n",
        "    num.a += num.a\n",
        "    return x\n",
        "\n",
        "myclass = digits()\n",
        "it = iter(myclass)\n",
        "print(next(it))\n",
        "print(next(it))\n",
        "print(next(it))\n",
        "print(next(it))\n",
        "print(next(it))\n",
        "print(next(it))\n",
        "print(next(it))\n",
        "print(\"\\n\\n\\n\")\n",
        "\n",
        "#stop an iteration\n",
        "class stopit:\n",
        "  def __iter__(num):\n",
        "    num.a = 1\n",
        "    return num\n",
        "\n",
        "  def __next__(num):\n",
        "    if num.a <= 10:\n",
        "       x = num.a\n",
        "       num.a += num.a\n",
        "       return x\n",
        "    else:\n",
        "      raise StopIteration\n",
        "\n",
        "myclass = stopit()\n",
        "it = iter(myclass)\n",
        "\n",
        "for x in it:\n",
        "  print(x)\n"
      ],
      "execution_count": 23,
      "outputs": [
        {
          "output_type": "stream",
          "text": [
            "banana\n",
            "orange\n",
            "mango\n",
            "B\n",
            "a\n",
            "n\n",
            "a\n",
            "n\n",
            "1\n",
            "2\n",
            "3\n",
            "4\n",
            "5\n",
            "6\n",
            "1\n",
            "2\n",
            "4\n",
            "8\n",
            "16\n",
            "32\n",
            "64\n",
            "\n",
            "\n",
            "\n",
            "\n",
            "1\n",
            "2\n",
            "4\n",
            "8\n"
          ],
          "name": "stdout"
        }
      ]
    },
    {
      "cell_type": "code",
      "metadata": {
        "id": "zDD8MB-KYFTj",
        "colab_type": "code",
        "colab": {
          "base_uri": "https://localhost:8080/",
          "height": 167
        },
        "outputId": "ca1669a9-e919-429e-85c0-04f7a2f613b4"
      },
      "source": [
        "#SCOPE\n",
        "#Variable declared in a function is called a local variable, it can be used only inside that function or any function inside that function\n",
        "def func():\n",
        "  x = 300\n",
        "  print(x)\n",
        "  def func2():\n",
        "    print(x)\n",
        "  func2()\n",
        "\n",
        "func()\n",
        "\n",
        "print(\"\\n\")\n",
        "#Global scope......This includes a variable created in the main body of the python program.It can be called in any of the fnction\n",
        "\n",
        "x = 500\n",
        "def func():\n",
        "  print(x)\n",
        "  def func2():\n",
        "    print(x)\n",
        "  func2()\n",
        "\n",
        "func()\n",
        "\n",
        "#using the global keyword....The global keyword can be used to declare a variable global inside a function. it can also be used to change the global variable delclared outside a function\n",
        "def func():\n",
        "  global x\n",
        "  x = 1000\n",
        "  print(x)\n",
        "  def func2():\n",
        "    print(x)\n",
        "  func2()\n",
        "\n",
        "func()\n"
      ],
      "execution_count": 33,
      "outputs": [
        {
          "output_type": "stream",
          "text": [
            "300\n",
            "300\n",
            "\n",
            "\n",
            "500\n",
            "500\n",
            "1000\n",
            "1000\n"
          ],
          "name": "stdout"
        }
      ]
    },
    {
      "cell_type": "code",
      "metadata": {
        "id": "SjX5MGYxmo2r",
        "colab_type": "code",
        "colab": {
          "base_uri": "https://localhost:8080/",
          "height": 74
        },
        "outputId": "4ee4e045-7a4b-466d-b3ff-037aa67ef064"
      },
      "source": [
        "#MODULE......A module is like a library. It is a file containing the functions one would like to use to include in an application\n",
        "\n",
        "#creating a module.....it is saved with the file extension .py. module can be renamed using \"as\" keyword\n",
        "#There are some built in modules in python. The \"dir()\" function can be used to list all the function names in a particular module\n",
        "#one can also import from a module(if some parts of the module are needed,not all!)\n",
        "    \n",
        "import platform\n",
        "a = platform.system()\n",
        "print(a)\n",
        "x = dir(platform)\n",
        "print(x)\n",
        "\n",
        "\n"
      ],
      "execution_count": 5,
      "outputs": [
        {
          "output_type": "stream",
          "text": [
            "Linux\n",
            "['DEV_NULL', '_UNIXCONFDIR', '_WIN32_CLIENT_RELEASES', '_WIN32_SERVER_RELEASES', '__builtins__', '__cached__', '__copyright__', '__doc__', '__file__', '__loader__', '__name__', '__package__', '__spec__', '__version__', '_codename_file_re', '_comparable_version', '_component_re', '_default_architecture', '_dist_try_harder', '_distributor_id_file_re', '_follow_symlinks', '_ironpython26_sys_version_parser', '_ironpython_sys_version_parser', '_java_getprop', '_libc_search', '_linux_distribution', '_lsb_release_version', '_mac_ver_xml', '_node', '_norm_version', '_parse_release_file', '_platform', '_platform_cache', '_pypy_sys_version_parser', '_release_file_re', '_release_filename', '_release_version', '_supported_dists', '_sys_version', '_sys_version_cache', '_sys_version_parser', '_syscmd_file', '_syscmd_uname', '_syscmd_ver', '_uname_cache', '_ver_output', '_ver_stages', 'architecture', 'collections', 'dist', 'java_ver', 'libc_ver', 'linux_distribution', 'mac_ver', 'machine', 'node', 'os', 'platform', 'popen', 'processor', 'python_branch', 'python_build', 'python_compiler', 'python_implementation', 'python_revision', 'python_version', 'python_version_tuple', 're', 'release', 'subprocess', 'sys', 'system', 'system_alias', 'uname', 'uname_result', 'version', 'warnings', 'win32_ver']\n"
          ],
          "name": "stdout"
        }
      ]
    },
    {
      "cell_type": "code",
      "metadata": {
        "id": "mEXTKE8BZQNt",
        "colab_type": "code",
        "colab": {}
      },
      "source": [
        "#PYTHON DATES"
      ],
      "execution_count": 0,
      "outputs": []
    }
  ]
}